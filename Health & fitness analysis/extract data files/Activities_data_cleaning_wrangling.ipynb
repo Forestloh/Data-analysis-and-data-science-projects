{
 "cells": [
  {
   "cell_type": "code",
   "execution_count": 304,
   "metadata": {},
   "outputs": [],
   "source": [
    "import pandas as pd\n",
    "import numpy as np\n",
    "from datetime import timedelta"
   ]
  },
  {
   "cell_type": "code",
   "execution_count": 305,
   "metadata": {},
   "outputs": [
    {
     "data": {
      "text/html": [
       "<div>\n",
       "<style scoped>\n",
       "    .dataframe tbody tr th:only-of-type {\n",
       "        vertical-align: middle;\n",
       "    }\n",
       "\n",
       "    .dataframe tbody tr th {\n",
       "        vertical-align: top;\n",
       "    }\n",
       "\n",
       "    .dataframe thead th {\n",
       "        text-align: right;\n",
       "    }\n",
       "</style>\n",
       "<table border=\"1\" class=\"dataframe\">\n",
       "  <thead>\n",
       "    <tr style=\"text-align: right;\">\n",
       "      <th></th>\n",
       "      <th>Activity Type</th>\n",
       "      <th>Date</th>\n",
       "      <th>Favorite</th>\n",
       "      <th>Title</th>\n",
       "      <th>Distance</th>\n",
       "      <th>Calories</th>\n",
       "      <th>Time</th>\n",
       "      <th>Avg HR</th>\n",
       "      <th>Max HR</th>\n",
       "      <th>Avg Run Cadence</th>\n",
       "      <th>...</th>\n",
       "      <th>Total Reps</th>\n",
       "      <th>Dive Time</th>\n",
       "      <th>Min Temp</th>\n",
       "      <th>Surface Interval</th>\n",
       "      <th>Decompression</th>\n",
       "      <th>Best Lap Time</th>\n",
       "      <th>Number of Laps</th>\n",
       "      <th>Max Temp</th>\n",
       "      <th>Moving Time</th>\n",
       "      <th>Elapsed Time</th>\n",
       "    </tr>\n",
       "  </thead>\n",
       "  <tbody>\n",
       "    <tr>\n",
       "      <th>0</th>\n",
       "      <td>Running</td>\n",
       "      <td>2023-05-11 19:15:41</td>\n",
       "      <td>False</td>\n",
       "      <td>Running</td>\n",
       "      <td>4.17</td>\n",
       "      <td>275</td>\n",
       "      <td>00:19:21</td>\n",
       "      <td>167</td>\n",
       "      <td>182</td>\n",
       "      <td>168</td>\n",
       "      <td>...</td>\n",
       "      <td>0</td>\n",
       "      <td>0:00</td>\n",
       "      <td>0.0</td>\n",
       "      <td>0:00</td>\n",
       "      <td>No</td>\n",
       "      <td>00:55.59</td>\n",
       "      <td>5</td>\n",
       "      <td>0.0</td>\n",
       "      <td>00:19:17</td>\n",
       "      <td>00:22:05</td>\n",
       "    </tr>\n",
       "    <tr>\n",
       "      <th>1</th>\n",
       "      <td>Running</td>\n",
       "      <td>2023-05-11 18:17:28</td>\n",
       "      <td>False</td>\n",
       "      <td>Running</td>\n",
       "      <td>5.07</td>\n",
       "      <td>338</td>\n",
       "      <td>00:24:00</td>\n",
       "      <td>165</td>\n",
       "      <td>181</td>\n",
       "      <td>166</td>\n",
       "      <td>...</td>\n",
       "      <td>0</td>\n",
       "      <td>0:00</td>\n",
       "      <td>0.0</td>\n",
       "      <td>0:00</td>\n",
       "      <td>No</td>\n",
       "      <td>00:21.30</td>\n",
       "      <td>6</td>\n",
       "      <td>0.0</td>\n",
       "      <td>00:23:59</td>\n",
       "      <td>00:24:00</td>\n",
       "    </tr>\n",
       "  </tbody>\n",
       "</table>\n",
       "<p>2 rows × 34 columns</p>\n",
       "</div>"
      ],
      "text/plain": [
       "  Activity Type                 Date  Favorite    Title Distance Calories   \n",
       "0       Running  2023-05-11 19:15:41     False  Running     4.17      275  \\\n",
       "1       Running  2023-05-11 18:17:28     False  Running     5.07      338   \n",
       "\n",
       "       Time Avg HR Max HR Avg Run Cadence  ... Total Reps Dive Time Min Temp   \n",
       "0  00:19:21    167    182             168  ...          0      0:00      0.0  \\\n",
       "1  00:24:00    165    181             166  ...          0      0:00      0.0   \n",
       "\n",
       "   Surface Interval  Decompression  Best Lap Time  Number of Laps  Max Temp   \n",
       "0              0:00             No       00:55.59               5       0.0  \\\n",
       "1              0:00             No       00:21.30               6       0.0   \n",
       "\n",
       "   Moving Time  Elapsed Time  \n",
       "0     00:19:17      00:22:05  \n",
       "1     00:23:59      00:24:00  \n",
       "\n",
       "[2 rows x 34 columns]"
      ]
     },
     "execution_count": 305,
     "metadata": {},
     "output_type": "execute_result"
    }
   ],
   "source": [
    "# Identify file and read file path\n",
    "file_path = 'Activities.csv'\n",
    "\n",
    "df = pd.read_csv(file_path)\n",
    "#df = pd.read_excel(file_path)\n",
    "# df.head(2)"
   ]
  },
  {
   "attachments": {},
   "cell_type": "markdown",
   "metadata": {},
   "source": [
    "Select relevant columns"
   ]
  },
  {
   "cell_type": "code",
   "execution_count": 306,
   "metadata": {},
   "outputs": [],
   "source": [
    "columns_to_keep = [\n",
    "  'Date', 'Title', 'Distance', 'Calories', 'Time', 'Avg HR', 'Max HR', 'Avg Run Cadence', 'Max Run Cadence', 'Avg Pace', 'Best Pace', 'Avg Stride Length', 'Moving Time', 'Elapsed Time'\n",
    "  ]"
   ]
  },
  {
   "cell_type": "code",
   "execution_count": 307,
   "metadata": {},
   "outputs": [],
   "source": [
    "df2 = df[columns_to_keep]\n",
    "# df2.head(2)"
   ]
  },
  {
   "attachments": {},
   "cell_type": "markdown",
   "metadata": {},
   "source": [
    "Move column position"
   ]
  },
  {
   "cell_type": "code",
   "execution_count": 308,
   "metadata": {},
   "outputs": [],
   "source": [
    "time = df2.pop('Time')\n",
    "df2.insert(2, 'Time', time, False)\n",
    "\n",
    "move_time = df2.pop('Moving Time')\n",
    "df2.insert(3, 'Moving Time', move_time, False)\n",
    "\n",
    "\n",
    "elapsed_time = df2.pop('Elapsed Time')\n",
    "df2.insert(4, 'Elapsed Time', elapsed_time, False)\n",
    "\n",
    "# df2.head(2)"
   ]
  },
  {
   "attachments": {},
   "cell_type": "markdown",
   "metadata": {},
   "source": [
    "#### Rename columns\n",
    "-change <code>Date</code> to <code>datetime</code>  \n",
    "-change <code>Title</code> to <code>Activity</code>  \n",
    "-change all to Capital case  \n",
    "-replace all ' ' with '_'  "
   ]
  },
  {
   "cell_type": "code",
   "execution_count": 309,
   "metadata": {},
   "outputs": [
    {
     "name": "stderr",
     "output_type": "stream",
     "text": [
      "C:\\Users\\hong\\AppData\\Local\\Temp\\ipykernel_5724\\1212398620.py:2: SettingWithCopyWarning: \n",
      "A value is trying to be set on a copy of a slice from a DataFrame\n",
      "\n",
      "See the caveats in the documentation: https://pandas.pydata.org/pandas-docs/stable/user_guide/indexing.html#returning-a-view-versus-a-copy\n",
      "  df2.rename(columns={\"Date\": \"Date_time\", \"Title\": \"Activity\"}, inplace=True)\n"
     ]
    }
   ],
   "source": [
    "# rename date and title\n",
    "df2.rename(columns={\"Date\": \"Date_time\", \"Title\": \"Activity\"}, inplace=True)"
   ]
  },
  {
   "cell_type": "code",
   "execution_count": 310,
   "metadata": {},
   "outputs": [],
   "source": [
    "# capitalise and replace spaces with underscores\n",
    "df2.columns = df2.columns.str.replace(' ', '_')\n",
    "df2.columns = df2.columns.str.capitalize()\n",
    "\n",
    "# df2.head(2)"
   ]
  },
  {
   "attachments": {},
   "cell_type": "markdown",
   "metadata": {},
   "source": [
    "Make a copy of progress to new df"
   ]
  },
  {
   "cell_type": "code",
   "execution_count": 311,
   "metadata": {},
   "outputs": [],
   "source": [
    "df3 = df2.copy()"
   ]
  },
  {
   "attachments": {},
   "cell_type": "markdown",
   "metadata": {},
   "source": [
    "Data wrangling on data fields (manipulate data types)"
   ]
  },
  {
   "cell_type": "code",
   "execution_count": 312,
   "metadata": {},
   "outputs": [],
   "source": [
    "# First, replace all '--' with np.nan\n",
    "df3.replace('--', value=np.nan, inplace=True)\n",
    "\n",
    "# For calories, remove ','\n",
    "df3['Calories'].replace(',', value='',  regex=True, inplace=True)"
   ]
  },
  {
   "cell_type": "code",
   "execution_count": 313,
   "metadata": {},
   "outputs": [],
   "source": [
    "# convert Date_time column to datetime obj\n",
    "df3['Date_time'] = pd.to_datetime(df3['Date_time'])\n",
    "\n",
    "# convert calories, heart rate, cadence TO Int32 (note capitalisation) \n",
    "cols_to_int32 = ['Calories', 'Avg_hr', 'Max_hr', 'Avg_run_cadence', 'Max_run_cadence']\n",
    "df3[cols_to_int32] = df3[cols_to_int32].astype('Int32')\n",
    "\n",
    "# convert Distance, stride length to Float64 (note capitalisation)\n",
    "cols_to_float64 = ['Distance', 'Avg_stride_length']\n",
    "df3[cols_to_float64] = df3[cols_to_float64].astype('Float64')\n",
    "\n",
    "# convert time variables to Timedelta objs (perhaps keep this as string)\n",
    "cols_to_timedelta = ['Time', 'Moving_time', 'Elapsed_time']\n",
    "df3[cols_to_timedelta] = df3[cols_to_timedelta].astype('timedelta64[s]')"
   ]
  },
  {
   "attachments": {},
   "cell_type": "markdown",
   "metadata": {},
   "source": [
    "NOTE:  \n",
    "-pd.NA stores null Int values  \n",
    "-np.NaN stores null Float values"
   ]
  },
  {
   "cell_type": "code",
   "execution_count": 314,
   "metadata": {},
   "outputs": [
    {
     "data": {
      "text/plain": [
       "Date_time            datetime64[ns]\n",
       "Activity                     object\n",
       "Time                 timedelta64[s]\n",
       "Moving_time          timedelta64[s]\n",
       "Elapsed_time         timedelta64[s]\n",
       "Distance                    Float64\n",
       "Calories                      Int32\n",
       "Avg_hr                        Int32\n",
       "Max_hr                        Int32\n",
       "Avg_run_cadence               Int32\n",
       "Max_run_cadence               Int32\n",
       "Avg_pace                     object\n",
       "Best_pace                    object\n",
       "Avg_stride_length           Float64\n",
       "dtype: object"
      ]
     },
     "execution_count": 314,
     "metadata": {},
     "output_type": "execute_result"
    }
   ],
   "source": [
    "df3.dtypes"
   ]
  },
  {
   "cell_type": "markdown",
   "metadata": {},
   "source": [
    "Make a copy of progress to new df"
   ]
  },
  {
   "cell_type": "code",
   "execution_count": 315,
   "metadata": {},
   "outputs": [],
   "source": [
    "df4 = df3.copy()"
   ]
  },
  {
   "attachments": {},
   "cell_type": "markdown",
   "metadata": {},
   "source": [
    "#### Data cleaning\n",
    "Keep rows if:  \n",
    "-Activity is <code>'Running'</code> or <code>'Walking'</code>  \n",
    "-<code>Time</code> equal or more than 10 mins  \n",
    "-<code>Calories</code> is not null(pd.NA)  \n",
    "-<code>Distance</code> more than 200m"
   ]
  },
  {
   "cell_type": "code",
   "execution_count": 316,
   "metadata": {},
   "outputs": [],
   "source": [
    "# Select rows if Activity is 'Walking' or 'Running'\n",
    "before_activity = len(df4)\n",
    "df4 = df4[(df4['Activity'] == 'Walking') | (df4['Activity'] == 'Running')]\n",
    "\n",
    "# Select rows if Time is equal or more than 10 minutes\n",
    "before_time = len(df4)\n",
    "df4 = df4[df4['Time'] >= timedelta(minutes=10)]\n",
    "\n",
    "# Drop row if Calories isnull\n",
    "before_calories = len(df4)\n",
    "df4['Calories'].dropna(inplace=True)\n",
    "\n",
    "# Select rows if Distance is equal or more than 0.1 km\n",
    "before_dist = len(df4)\n",
    "df4 = df4[df4['Distance'] >= 0.2]\n",
    "\n",
    "print = False\n",
    "if print:\n",
    "  print(f'Remove on Activity condition:\\nRows dropped = {before_activity-len(df4)}  \\nRemaining rows = {len(df4)}\\n')\n",
    "  print(f'Remove on Time condition:\\nRows dropped = {before_time-len(df4)}  \\nRemaining rows = {len(df4)}\\n')\n",
    "  print(f'Remove on Calorie condition:\\nRows dropped = {before_calories-len(df4)}  \\nRemaining rows = {len(df4)}\\n')\n",
    "  print(f'Remove on Distance condition:\\nRows dropped = {before_dist-len(df4)}  \\nRemaining rows = {len(df4)}\\n')\n"
   ]
  },
  {
   "attachments": {},
   "cell_type": "markdown",
   "metadata": {},
   "source": [
    "Final cleaning:  \n",
    "-For 'Avg_stride_length', replace 0.0 values with np.nan  \n",
    "-convert datetime, all 3 time variables to string"
   ]
  },
  {
   "cell_type": "code",
   "execution_count": 317,
   "metadata": {},
   "outputs": [],
   "source": [
    "# replace Avg_stride_length of 0.0 to np.nan\n",
    "df4['Avg_stride_length'] = df4['Avg_stride_length'].replace(0.0, np.nan)\n",
    "\n",
    "# convert date time to string format\n",
    "df4['Date_time'] = df4['Date_time'].dt.strftime('%d/%b/%Y %I:%M %p')\n",
    "\n",
    "# Convert time vars to string\n",
    "time_cols_to_str = ['Time', 'Moving_time', 'Elapsed_time']\n",
    "df4[time_cols_to_str] = df4[time_cols_to_str].astype('string')\n",
    "\n",
    "# remove '0 days ' for time vars\n",
    "df4['Time'].replace('0 days ', '', regex=True, inplace=True)\n",
    "df4['Moving_time'].replace('0 days ', '', regex=True, inplace=True)\n",
    "df4['Elapsed_time'].replace('0 days ', '', regex=True, inplace=True)"
   ]
  },
  {
   "cell_type": "code",
   "execution_count": 318,
   "metadata": {},
   "outputs": [
    {
     "data": {
      "text/html": [
       "<div>\n",
       "<style scoped>\n",
       "    .dataframe tbody tr th:only-of-type {\n",
       "        vertical-align: middle;\n",
       "    }\n",
       "\n",
       "    .dataframe tbody tr th {\n",
       "        vertical-align: top;\n",
       "    }\n",
       "\n",
       "    .dataframe thead th {\n",
       "        text-align: right;\n",
       "    }\n",
       "</style>\n",
       "<table border=\"1\" class=\"dataframe\">\n",
       "  <thead>\n",
       "    <tr style=\"text-align: right;\">\n",
       "      <th></th>\n",
       "      <th>Date_time</th>\n",
       "      <th>Activity</th>\n",
       "      <th>Time</th>\n",
       "      <th>Moving_time</th>\n",
       "      <th>Elapsed_time</th>\n",
       "      <th>Distance</th>\n",
       "      <th>Calories</th>\n",
       "      <th>Avg_hr</th>\n",
       "      <th>Max_hr</th>\n",
       "      <th>Avg_run_cadence</th>\n",
       "      <th>Max_run_cadence</th>\n",
       "      <th>Avg_pace</th>\n",
       "      <th>Best_pace</th>\n",
       "      <th>Avg_stride_length</th>\n",
       "    </tr>\n",
       "  </thead>\n",
       "  <tbody>\n",
       "    <tr>\n",
       "      <th>0</th>\n",
       "      <td>11/May/2023 07:15 PM</td>\n",
       "      <td>Running</td>\n",
       "      <td>00:19:21</td>\n",
       "      <td>00:19:17</td>\n",
       "      <td>00:22:05</td>\n",
       "      <td>4.17</td>\n",
       "      <td>275</td>\n",
       "      <td>167</td>\n",
       "      <td>182</td>\n",
       "      <td>168</td>\n",
       "      <td>228</td>\n",
       "      <td>4:38</td>\n",
       "      <td>3:23</td>\n",
       "      <td>1.29</td>\n",
       "    </tr>\n",
       "    <tr>\n",
       "      <th>1</th>\n",
       "      <td>11/May/2023 06:17 PM</td>\n",
       "      <td>Running</td>\n",
       "      <td>00:24:00</td>\n",
       "      <td>00:23:59</td>\n",
       "      <td>00:24:00</td>\n",
       "      <td>5.07</td>\n",
       "      <td>338</td>\n",
       "      <td>165</td>\n",
       "      <td>181</td>\n",
       "      <td>166</td>\n",
       "      <td>214</td>\n",
       "      <td>4:44</td>\n",
       "      <td>3:47</td>\n",
       "      <td>1.28</td>\n",
       "    </tr>\n",
       "    <tr>\n",
       "      <th>2</th>\n",
       "      <td>30/Apr/2023 07:42 PM</td>\n",
       "      <td>Running</td>\n",
       "      <td>00:35:05</td>\n",
       "      <td>00:33:10</td>\n",
       "      <td>00:35:05</td>\n",
       "      <td>5.73</td>\n",
       "      <td>480</td>\n",
       "      <td>166</td>\n",
       "      <td>185</td>\n",
       "      <td>160</td>\n",
       "      <td>176</td>\n",
       "      <td>6:07</td>\n",
       "      <td>4:25</td>\n",
       "      <td>1.01</td>\n",
       "    </tr>\n",
       "  </tbody>\n",
       "</table>\n",
       "</div>"
      ],
      "text/plain": [
       "              Date_time Activity      Time Moving_time Elapsed_time  Distance   \n",
       "0  11/May/2023 07:15 PM  Running  00:19:21    00:19:17     00:22:05      4.17  \\\n",
       "1  11/May/2023 06:17 PM  Running  00:24:00    00:23:59     00:24:00      5.07   \n",
       "2  30/Apr/2023 07:42 PM  Running  00:35:05    00:33:10     00:35:05      5.73   \n",
       "\n",
       "   Calories  Avg_hr  Max_hr  Avg_run_cadence  Max_run_cadence Avg_pace   \n",
       "0       275     167     182              168              228     4:38  \\\n",
       "1       338     165     181              166              214     4:44   \n",
       "2       480     166     185              160              176     6:07   \n",
       "\n",
       "  Best_pace  Avg_stride_length  \n",
       "0      3:23               1.29  \n",
       "1      3:47               1.28  \n",
       "2      4:25               1.01  "
      ]
     },
     "execution_count": 318,
     "metadata": {},
     "output_type": "execute_result"
    }
   ],
   "source": [
    "df4.head(3)"
   ]
  },
  {
   "attachments": {},
   "cell_type": "markdown",
   "metadata": {},
   "source": [
    "Save to excel sheet"
   ]
  },
  {
   "cell_type": "code",
   "execution_count": 319,
   "metadata": {},
   "outputs": [],
   "source": [
    "df4.to_excel('activity_cleaned.xlsx', na_rep='', index=False)  "
   ]
  }
 ],
 "metadata": {
  "kernelspec": {
   "display_name": "Python 3",
   "language": "python",
   "name": "python3"
  },
  "language_info": {
   "codemirror_mode": {
    "name": "ipython",
    "version": 3
   },
   "file_extension": ".py",
   "mimetype": "text/x-python",
   "name": "python",
   "nbconvert_exporter": "python",
   "pygments_lexer": "ipython3",
   "version": "3.11.2"
  },
  "orig_nbformat": 4
 },
 "nbformat": 4,
 "nbformat_minor": 2
}
