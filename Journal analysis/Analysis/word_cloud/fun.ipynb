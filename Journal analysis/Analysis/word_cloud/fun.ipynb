{
  "cells": [
    {
      "attachments": {},
      "cell_type": "markdown",
      "metadata": {},
      "source": [
        "Generate a cloud"
      ]
    },
    {
      "cell_type": "code",
      "execution_count": 1,
      "metadata": {},
      "outputs": [],
      "source": [
        "#import wordcloud_funcs\n",
        "from wordcloud_funcs import Journal_cloud"
      ]
    },
    {
      "cell_type": "code",
      "execution_count": 7,
      "metadata": {},
      "outputs": [],
      "source": [
        "# variables\n",
        "lemmatiser = 'pos'\n",
        "k_num_of_words = 5000\n",
        "image_path = 'cloud.jpg'\n",
        "img_size = [500, 500]\n",
        "save_file_name = '2015'"
      ]
    },
    {
      "cell_type": "code",
      "execution_count": 3,
      "metadata": {},
      "outputs": [],
      "source": [
        "# years to generate\n",
        "years = [i for i in range(2014, 2024)]"
      ]
    },
    {
      "cell_type": "code",
      "execution_count": 4,
      "metadata": {},
      "outputs": [],
      "source": [
        "cloud_obj = Journal_cloud()"
      ]
    },
    {
      "cell_type": "code",
      "execution_count": null,
      "metadata": {},
      "outputs": [],
      "source": [
        "for year in years:\n",
        "  cloud_obj.get_cloud(year,\n",
        "                      lemmatiser=lemmatiser,\n",
        "                      k_num_of_words=k_num_of_words,\n",
        "                      image_path=image_path,\n",
        "                      img_size=[500, 500],\n",
        "                      save_file_name=str(year))"
      ]
    }
  ],
  "metadata": {
    "kernelspec": {
      "display_name": "venv",
      "language": "python",
      "name": "python3"
    },
    "language_info": {
      "codemirror_mode": {
        "name": "ipython",
        "version": 3
      },
      "file_extension": ".py",
      "mimetype": "text/x-python",
      "name": "python",
      "nbconvert_exporter": "python",
      "pygments_lexer": "ipython3",
      "version": "3.11.2"
    }
  },
  "nbformat": 4,
  "nbformat_minor": 4
}
